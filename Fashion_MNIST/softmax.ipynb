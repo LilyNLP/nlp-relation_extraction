{
 "cells": [
  {
   "cell_type": "code",
   "execution_count": 1,
   "metadata": {},
   "outputs": [
    {
     "name": "stdout",
     "output_type": "stream",
     "text": [
      "1.10.0\n"
     ]
    }
   ],
   "source": [
    "import tensorflow as tf\n",
    "import math\n",
    "print(tf.__version__)\n",
    "tf.set_random_seed(0)"
   ]
  },
  {
   "cell_type": "code",
   "execution_count": 2,
   "metadata": {},
   "outputs": [],
   "source": [
    "import mnistdata"
   ]
  },
  {
   "cell_type": "code",
   "execution_count": 3,
   "metadata": {},
   "outputs": [
    {
     "name": "stdout",
     "output_type": "stream",
     "text": [
      "Successfully unzipped train-images-idx3-ubyte.gz\n",
      "Successfully unzipped train-labels-idx1-ubyte.gz\n",
      "Successfully unzipped t10k-images-idx3-ubyte.gz\n",
      "Successfully unzipped t10k-labels-idx1-ubyte.gz\n"
     ]
    }
   ],
   "source": [
    "mnist = mnistdata.read_data_sets(\"data/fashion\", one_hot=True, reshape=False)"
   ]
  },
  {
   "cell_type": "code",
   "execution_count": 4,
   "metadata": {},
   "outputs": [
    {
     "data": {
      "text/plain": [
       "(60000, 28, 28, 1)"
      ]
     },
     "execution_count": 4,
     "metadata": {},
     "output_type": "execute_result"
    }
   ],
   "source": [
    "mnist.train.images.shape"
   ]
  },
  {
   "cell_type": "code",
   "execution_count": 5,
   "metadata": {},
   "outputs": [
    {
     "data": {
      "text/plain": [
       "(60000, 10)"
      ]
     },
     "execution_count": 5,
     "metadata": {},
     "output_type": "execute_result"
    }
   ],
   "source": [
    "mnist.train.labels.shape"
   ]
  },
  {
   "cell_type": "code",
   "execution_count": 6,
   "metadata": {},
   "outputs": [
    {
     "data": {
      "text/plain": [
       "(10000, 28, 28, 1)"
      ]
     },
     "execution_count": 6,
     "metadata": {},
     "output_type": "execute_result"
    }
   ],
   "source": [
    "mnist.test.images.shape"
   ]
  },
  {
   "cell_type": "code",
   "execution_count": 7,
   "metadata": {},
   "outputs": [
    {
     "data": {
      "text/plain": [
       "(10000, 10)"
      ]
     },
     "execution_count": 7,
     "metadata": {},
     "output_type": "execute_result"
    }
   ],
   "source": [
    "mnist.test.labels.shape"
   ]
  },
  {
   "cell_type": "code",
   "execution_count": 8,
   "metadata": {},
   "outputs": [],
   "source": [
    "X = tf.placeholder(tf.float32, [None, 28, 28, 1])\n",
    "Y_ = tf.placeholder(tf.float32, [None, 10])\n",
    "W = tf.Variable(tf.zeros([784, 10]))\n",
    "b = tf.Variable(tf.zeros([10]))\n",
    "XX = tf.reshape(X, [-1, 784])"
   ]
  },
  {
   "cell_type": "code",
   "execution_count": 9,
   "metadata": {},
   "outputs": [],
   "source": [
    "# The model\n",
    "Y = tf.nn.softmax(tf.matmul(XX, W) + b)"
   ]
  },
  {
   "cell_type": "code",
   "execution_count": 10,
   "metadata": {},
   "outputs": [],
   "source": [
    "cross_entropy = -tf.reduce_mean(Y_ * tf.log(Y)) * 1000.0\n",
    "\n",
    "train_step = tf.train.AdamOptimizer(1e-4).minimize(cross_entropy)\n",
    "\n",
    "correct_prediction = tf.equal(tf.argmax(Y, 1), tf.argmax(Y_, 1))\n",
    "accuracy = tf.reduce_mean(tf.cast(correct_prediction, tf.float32))\n",
    "\n",
    "init = tf.global_variables_initializer()\n",
    "sess = tf.Session()\n",
    "sess.run(init)"
   ]
  },
  {
   "cell_type": "code",
   "execution_count": 11,
   "metadata": {},
   "outputs": [
    {
     "name": "stdout",
     "output_type": "stream",
     "text": [
      "step     0, train_accuracy = 12 %\n",
      "step  1000, train_accuracy = 73 %\n",
      "step  2000, train_accuracy = 83 %\n",
      "step  3000, train_accuracy = 86 %\n",
      "step  4000, train_accuracy = 78 %\n",
      "step  5000, train_accuracy = 85 %\n",
      "step  6000, train_accuracy = 88 %\n",
      "step  7000, train_accuracy = 80 %\n",
      "step  8000, train_accuracy = 86 %\n",
      "step  9000, train_accuracy = 90 %\n",
      "step 10000, train_accuracy = 79 %\n",
      "step 11000, train_accuracy = 87 %\n",
      "step 12000, train_accuracy = 91 %\n",
      "step 13000, train_accuracy = 80 %\n",
      "step 14000, train_accuracy = 87 %\n",
      "step 15000, train_accuracy = 92 %\n",
      "step 16000, train_accuracy = 80 %\n",
      "step 17000, train_accuracy = 86 %\n",
      "step 18000, train_accuracy = 93 %\n",
      "step 19000, train_accuracy = 80 %\n"
     ]
    }
   ],
   "source": [
    "for i in range(20000):\n",
    "    batch_X, batch_Y = mnist.train.next_batch(100)\n",
    "    if i % 1000 == 0:\n",
    "        train_accuracy = accuracy.eval(session=sess, feed_dict={X:batch_X, Y_:batch_Y})\n",
    "        print(\"step %5d, train_accuracy = %.4g %%\" % (i, train_accuracy*100))\n",
    "    train_step.run(session=sess, feed_dict={X:batch_X, Y_:batch_Y})"
   ]
  },
  {
   "cell_type": "code",
   "execution_count": 12,
   "metadata": {},
   "outputs": [
    {
     "name": "stdout",
     "output_type": "stream",
     "text": [
      "test_accuracy = 83.88 %\n"
     ]
    }
   ],
   "source": [
    "test_X, test_Y = mnist.test.next_batch(10000)\n",
    "test_accuracy = accuracy.eval(session=sess, feed_dict={X:test_X, Y_:test_Y})\n",
    "print(\"test_accuracy = %.4g %%\" % (test_accuracy*100))"
   ]
  }
 ],
 "metadata": {
  "kernelspec": {
   "display_name": "tensorflow",
   "language": "python",
   "name": "tensorflow"
  },
  "language_info": {
   "codemirror_mode": {
    "name": "ipython",
    "version": 3
   },
   "file_extension": ".py",
   "mimetype": "text/x-python",
   "name": "python",
   "nbconvert_exporter": "python",
   "pygments_lexer": "ipython3",
   "version": "3.6.8"
  }
 },
 "nbformat": 4,
 "nbformat_minor": 2
}

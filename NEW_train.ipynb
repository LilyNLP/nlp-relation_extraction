{
 "cells": [
  {
   "cell_type": "code",
   "execution_count": 1,
   "metadata": {},
   "outputs": [
    {
     "name": "stdout",
     "output_type": "stream",
     "text": [
      "1.12.0\n"
     ]
    }
   ],
   "source": [
    "import tensorflow as tf\n",
    "import numpy as np\n",
    "import math\n",
    "print(tf.__version__)"
   ]
  },
  {
   "cell_type": "code",
   "execution_count": 2,
   "metadata": {},
   "outputs": [],
   "source": [
    "import mnist_reader\n",
    "train_images, train_labels = mnist_reader.load_mnist('data', kind='train')\n",
    "test_images, test_labels = mnist_reader.load_mnist('data', kind='t10k')\n",
    "train_num = len(train_labels)\n",
    "test_num = len(test_labels)"
   ]
  },
  {
   "cell_type": "code",
   "execution_count": 3,
   "metadata": {},
   "outputs": [],
   "source": [
    "train_images = train_images.reshape(-1, 28, 28, 1)\n",
    "test_images = test_images.reshape(-1, 28, 28, 1)"
   ]
  },
  {
   "cell_type": "code",
   "execution_count": 4,
   "metadata": {},
   "outputs": [],
   "source": [
    "train_labels_onehot = np.ones((len(train_labels), 10)) * 0\n",
    "for i in range(len(train_labels)):\n",
    "    train_labels_onehot[i][train_labels[i]] = 1"
   ]
  },
  {
   "cell_type": "code",
   "execution_count": 5,
   "metadata": {},
   "outputs": [],
   "source": [
    "test_labels_onehot = np.ones((len(test_labels), 10)) * 0\n",
    "for i in range(len(test_labels)):\n",
    "    test_labels_onehot[i][test_labels[i]] = 1"
   ]
  },
  {
   "cell_type": "code",
   "execution_count": 6,
   "metadata": {},
   "outputs": [],
   "source": [
    "class_names = ['T-shirt/top', 'Trouser', 'Pullover', 'Dress', 'Coat', \n",
    "               'Sandal', 'Shirt', 'Sneaker', 'Bag', 'Ankle boot']"
   ]
  },
  {
   "cell_type": "code",
   "execution_count": 7,
   "metadata": {},
   "outputs": [],
   "source": [
    "def conv2d(x, w):\n",
    "    return tf.nn.conv2d(x, w, strides=[1, 1, 1, 1], padding='SAME')\n",
    "\n",
    "def max_pool_2x2(x):\n",
    "    return tf.nn.max_pool(x, ksize=[1, 2, 2, 1], strides=[1, 2, 2, 1], padding='SAME')"
   ]
  },
  {
   "cell_type": "code",
   "execution_count": 8,
   "metadata": {},
   "outputs": [],
   "source": [
    "x = tf.placeholder(tf.float32, [None, 28, 28, 1])\n",
    "y = tf.placeholder(tf.float32, [None, 10])\n",
    "\n",
    "w_conv1 = tf.Variable(tf.truncated_normal([3, 3, 1, 32], stddev=0.1))\n",
    "b_conv1 = tf.Variable(tf.constant(0.1, shape=[32]))\n",
    "h_conv1 = tf.nn.relu(conv2d(x, w_conv1) + b_conv1)\n",
    "h_pool1 = max_pool_2x2(h_conv1)\n",
    "\n",
    "w_conv2=tf.Variable(tf.truncated_normal([3, 3, 32, 50], stddev=0.1))\n",
    "b_conv2=tf.Variable(tf.constant(0.1, shape=[50]))\n",
    "h_conv2=tf.nn.relu(conv2d(h_pool1, w_conv2) + b_conv2)\n",
    "h_pool2=max_pool_2x2(h_conv2)\n",
    "\n",
    "w_fc1 = tf.Variable(tf.truncated_normal([7*7*50, 1024], stddev=0.1))\n",
    "b_fc1 = tf.Variable(tf.constant(0.1, shape=[1024]))\n",
    "h_pool2_flat = tf.reshape(h_pool2, [-1, 7*7*50])\n",
    "h_fc1 = tf.nn.relu(tf.matmul(h_pool2_flat, w_fc1) + b_fc1)\n",
    "\n",
    "keep_prob = tf.placeholder(tf.float32)\n",
    "h_fc1_drop = tf.nn.dropout(h_fc1, keep_prob)\n",
    "\n",
    "w_fc2 = tf.Variable(tf.truncated_normal([1024, 10], stddev=0.1))\n",
    "b_fc2 = tf.Variable(tf.constant(0.1, shape=[10]))\n",
    "y_out = tf.nn.softmax(tf.matmul(h_fc1_drop, w_fc2) + b_fc2)\n",
    "\n",
    "loss = tf.reduce_mean(-tf.reduce_sum(y * tf.log(y_out), reduction_indices=[1]))\n",
    "#cross_entropy = -tf.reduce_sum(y * tf.log(y_out))\n",
    "train_step = tf.train.AdamOptimizer(1e-4).minimize(loss)\n",
    "#train_step = tf.train.AdamOptimizer(1e-4).minimize(cross_entropy)\n",
    "\n",
    "correct_prediction = tf.equal(tf.argmax(y_out, 1), tf.argmax(y, 1))\n",
    "accuracy = tf.reduce_mean(tf.cast(correct_prediction, tf.float32))\n",
    "\n",
    "sess=tf.InteractiveSession()\n",
    "#sess=tf.Session()\n",
    "sess.run(tf.global_variables_initializer())"
   ]
  },
  {
   "cell_type": "code",
   "execution_count": 9,
   "metadata": {},
   "outputs": [
    {
     "name": "stdout",
     "output_type": "stream",
     "text": [
      "step:  0 train_accuracy:  0.06\n",
      "step:  1000 train_accuracy:  0.06\n",
      "step:  2000 train_accuracy:  0.16\n",
      "step:  3000 train_accuracy:  0.08\n"
     ]
    }
   ],
   "source": [
    "batch_size = 50\n",
    "batch_num = math.floor(train_num / batch_size)\n",
    "    \n",
    "for i in range(4000):\n",
    "    if (i % 1000 == 0):\n",
    "        index = i % batch_num * batch_size\n",
    "        train_accuracy = accuracy.eval(session=sess, feed_dict={x:train_images[index:index+batch_size], y:train_labels_onehot[index:index+batch_size], keep_prob:1.0})\n",
    "        print(\"step: \", i, \"train_accuracy: \", train_accuracy)\n",
    "    index = i % batch_num * batch_size\n",
    "    train_step.run(session=sess, feed_dict={x:train_images[index:index+batch_size], y:train_labels_onehot[index:index+batch_size], keep_prob:0.5})"
   ]
  },
  {
   "cell_type": "code",
   "execution_count": null,
   "metadata": {},
   "outputs": [],
   "source": []
  }
 ],
 "metadata": {
  "kernelspec": {
   "display_name": "tensorflow",
   "language": "python",
   "name": "tensorflow"
  },
  "language_info": {
   "codemirror_mode": {
    "name": "ipython",
    "version": 3
   },
   "file_extension": ".py",
   "mimetype": "text/x-python",
   "name": "python",
   "nbconvert_exporter": "python",
   "pygments_lexer": "ipython3",
   "version": "3.6.8"
  }
 },
 "nbformat": 4,
 "nbformat_minor": 2
}

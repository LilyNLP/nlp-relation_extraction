{
 "cells": [
  {
   "cell_type": "markdown",
   "metadata": {},
   "source": [
    "2015 Relation Classification via Recurrent Neural Network\n",
    "Dongxu Zhang, Dong Wang\n",
    "1 layer of BiRNN\n",
    "h = max(ht_fw + ht_bw, for t in 0:length)"
   ]
  },
  {
   "cell_type": "code",
   "execution_count": 1,
   "metadata": {},
   "outputs": [
    {
     "name": "stdout",
     "output_type": "stream",
     "text": [
      "1.10.0\n"
     ]
    }
   ],
   "source": [
    "import tensorflow as tf\n",
    "from tensorflow.contrib import rnn\n",
    "import numpy as np\n",
    "import time\n",
    "print(tf.__version__)"
   ]
  },
  {
   "cell_type": "code",
   "execution_count": 2,
   "metadata": {},
   "outputs": [
    {
     "name": "stdout",
     "output_type": "stream",
     "text": [
      "Successfully unzipped train-images-idx3-ubyte.gz\n",
      "Successfully unzipped train-labels-idx1-ubyte.gz\n",
      "Successfully unzipped t10k-images-idx3-ubyte.gz\n",
      "Successfully unzipped t10k-labels-idx1-ubyte.gz\n"
     ]
    }
   ],
   "source": [
    "import mnistdata\n",
    "mnist = mnistdata.read_data_sets(\"data/fashion\", one_hot=True, reshape=False)"
   ]
  },
  {
   "cell_type": "code",
   "execution_count": 3,
   "metadata": {},
   "outputs": [
    {
     "name": "stdout",
     "output_type": "stream",
     "text": [
      "(60000, 28, 28, 1)\n",
      "(10000, 10)\n"
     ]
    }
   ],
   "source": [
    "print(mnist.train.images.shape)\n",
    "print(mnist.test.labels.shape)"
   ]
  },
  {
   "cell_type": "code",
   "execution_count": 4,
   "metadata": {},
   "outputs": [],
   "source": [
    "learning_rate = 1e-4\n",
    "batch_size = 100\n",
    "display_step = 1000\n",
    "test_size = mnist.test.labels.shape[0]\n",
    "\n",
    "n_input = 28\n",
    "n_steps=  28\n",
    "n_hidden = 128\n",
    "n_classes = 10"
   ]
  },
  {
   "cell_type": "code",
   "execution_count": 5,
   "metadata": {},
   "outputs": [],
   "source": [
    "X = tf.placeholder(tf.float32, [None, n_steps, n_input])\n",
    "Y_ = tf.placeholder(tf.float32, [None, n_classes])\n",
    "\n",
    "W = tf.Variable(tf.truncated_normal([n_hidden, n_classes], stddev=0.1))\n",
    "b = tf.Variable(tf.truncated_normal([n_classes], stddev=0.1))"
   ]
  },
  {
   "cell_type": "code",
   "execution_count": 6,
   "metadata": {},
   "outputs": [],
   "source": [
    "def BiRNN(x, w, b):\n",
    "    x = tf.transpose(x, [1, 0, 2])\n",
    "    x = tf.reshape(x, [-1, n_input])\n",
    "    x = tf.split(x, n_steps)\n",
    "\n",
    "    fw_cell = tf.nn.rnn_cell.LSTMCell(n_hidden, forget_bias=1.0)\n",
    "    bw_cell = tf.nn.rnn_cell.LSTMCell(n_hidden, forget_bias=1.0)\n",
    "    out, _, _ = tf.contrib.rnn.static_bidirectional_rnn(fw_cell, bw_cell, x, dtype=tf.float32)\n",
    "    \n",
    "    out = tf.stack(out)\n",
    "    h = out[:, :, 0:n_hidden] + out[:, :, n_hidden:2*n_hidden]\n",
    "    h_max = tf.reduce_max(h, 0)\n",
    "    \n",
    "    pred = tf.nn.softmax(tf.matmul(h_max, w) + b)\n",
    "\n",
    "    return pred"
   ]
  },
  {
   "cell_type": "code",
   "execution_count": 7,
   "metadata": {},
   "outputs": [],
   "source": [
    "Y = BiRNN(X, W, b)"
   ]
  },
  {
   "cell_type": "code",
   "execution_count": 8,
   "metadata": {},
   "outputs": [],
   "source": [
    "cross_entropy = tf.reduce_mean(tf.nn.softmax_cross_entropy_with_logits_v2(logits=Y, labels=Y_))\n",
    "\n",
    "correct_prediction = tf.equal(tf.argmax(Y, 1), tf.argmax(Y_, 1))\n",
    "accuracy = tf.reduce_mean(tf.cast(correct_prediction, tf.float32))\n",
    "\n",
    "train_step = tf.train.AdamOptimizer(learning_rate).minimize(cross_entropy)\n",
    "\n",
    "sess = tf.Session()\n",
    "sess.run(tf.global_variables_initializer())"
   ]
  },
  {
   "cell_type": "code",
   "execution_count": 9,
   "metadata": {},
   "outputs": [
    {
     "name": "stdout",
     "output_type": "stream",
     "text": [
      "step     0, train_accuracy = 6 % test_accuracy = 9 %\n",
      "step  1000, train_accuracy = 87 % test_accuracy = 83.12 %\n",
      "step  2000, train_accuracy = 88 % test_accuracy = 94.59 %\n",
      "step  3000, train_accuracy = 95 % test_accuracy = 95.5 %\n",
      "step  4000, train_accuracy = 98 % test_accuracy = 96.56 %\n",
      "step  5000, train_accuracy = 92 % test_accuracy = 96.45 %\n",
      "step  6000, train_accuracy = 96 % test_accuracy = 96.82 %\n",
      "step  7000, train_accuracy = 99 % test_accuracy = 96.46 %\n",
      "step  8000, train_accuracy = 95 % test_accuracy = 97.46 %\n",
      "step  9000, train_accuracy = 97 % test_accuracy = 97.29 %\n",
      "training time:  289.9446117  s\n"
     ]
    }
   ],
   "source": [
    "# mnist\n",
    "start = time.clock()\n",
    "test_X = mnist.test.images\n",
    "test_X = test_X.reshape([test_size, n_steps, n_input])\n",
    "test_Y = mnist.test.labels\n",
    "for i in range(10000):\n",
    "    batch_X, batch_Y = mnist.train.next_batch(batch_size)\n",
    "    batch_X = batch_X.reshape([batch_size, n_steps, n_input])\n",
    "    if i % display_step == 0:\n",
    "        train_accuracy = accuracy.eval(session=sess, feed_dict={X:batch_X, Y_:batch_Y})\n",
    "        test_accuracy = accuracy.eval(session=sess, feed_dict={X:test_X, Y_:test_Y})\n",
    "        print(\"step %5d, train_accuracy = %.4g %% test_accuracy = %.4g %%\" % (i, train_accuracy*100, test_accuracy*100))\n",
    "    train_step.run(session=sess, feed_dict={X:batch_X, Y_:batch_Y})\n",
    "print(\"training time: \", time.clock()-start, \" s\")"
   ]
  },
  {
   "cell_type": "code",
   "execution_count": 9,
   "metadata": {},
   "outputs": [
    {
     "name": "stdout",
     "output_type": "stream",
     "text": [
      "step     0, train_accuracy = 19 % test_accuracy = 15.97 %\n",
      "step  1000, train_accuracy = 73 % test_accuracy = 73.7 %\n",
      "step  2000, train_accuracy = 77 % test_accuracy = 76.35 %\n",
      "step  3000, train_accuracy = 83 % test_accuracy = 77.4 %\n",
      "step  4000, train_accuracy = 77 % test_accuracy = 78.06 %\n",
      "step  5000, train_accuracy = 85 % test_accuracy = 82.77 %\n",
      "step  6000, train_accuracy = 87 % test_accuracy = 83.76 %\n",
      "step  7000, train_accuracy = 79 % test_accuracy = 84.4 %\n",
      "step  8000, train_accuracy = 83 % test_accuracy = 84.82 %\n",
      "step  9000, train_accuracy = 91 % test_accuracy = 85.09 %\n",
      "training time:  294.1583635  s\n"
     ]
    }
   ],
   "source": [
    "# fashion\n",
    "start = time.clock()\n",
    "test_X = mnist.test.images\n",
    "test_X = test_X.reshape([test_size, n_steps, n_input])\n",
    "test_Y = mnist.test.labels\n",
    "for i in range(10000):\n",
    "    batch_X, batch_Y = mnist.train.next_batch(batch_size)\n",
    "    batch_X = batch_X.reshape([batch_size, n_steps, n_input])\n",
    "    if i % display_step == 0:\n",
    "        train_accuracy = accuracy.eval(session=sess, feed_dict={X:batch_X, Y_:batch_Y})\n",
    "        test_accuracy = accuracy.eval(session=sess, feed_dict={X:test_X, Y_:test_Y})\n",
    "        print(\"step %5d, train_accuracy = %.4g %% test_accuracy = %.4g %%\" % (i, train_accuracy*100, test_accuracy*100))\n",
    "    train_step.run(session=sess, feed_dict={X:batch_X, Y_:batch_Y})\n",
    "print(\"training time: \", time.clock()-start, \" s\")"
   ]
  },
  {
   "cell_type": "code",
   "execution_count": null,
   "metadata": {},
   "outputs": [],
   "source": []
  }
 ],
 "metadata": {
  "kernelspec": {
   "display_name": "tensorflow",
   "language": "python",
   "name": "tensorflow"
  },
  "language_info": {
   "codemirror_mode": {
    "name": "ipython",
    "version": 3
   },
   "file_extension": ".py",
   "mimetype": "text/x-python",
   "name": "python",
   "nbconvert_exporter": "python",
   "pygments_lexer": "ipython3",
   "version": "3.6.8"
  }
 },
 "nbformat": 4,
 "nbformat_minor": 2
}

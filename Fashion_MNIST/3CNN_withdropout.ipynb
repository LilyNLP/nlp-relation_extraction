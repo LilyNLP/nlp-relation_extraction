{
 "cells": [
  {
   "cell_type": "code",
   "execution_count": 1,
   "metadata": {},
   "outputs": [
    {
     "name": "stdout",
     "output_type": "stream",
     "text": [
      "1.10.0\n"
     ]
    }
   ],
   "source": [
    "import tensorflow as tf\n",
    "import math\n",
    "print(tf.__version__)\n",
    "tf.set_random_seed(0)"
   ]
  },
  {
   "cell_type": "code",
   "execution_count": 2,
   "metadata": {},
   "outputs": [
    {
     "name": "stdout",
     "output_type": "stream",
     "text": [
      "Successfully unzipped train-images-idx3-ubyte.gz\n",
      "Successfully unzipped train-labels-idx1-ubyte.gz\n",
      "Successfully unzipped t10k-images-idx3-ubyte.gz\n",
      "Successfully unzipped t10k-labels-idx1-ubyte.gz\n"
     ]
    }
   ],
   "source": [
    "import mnistdata\n",
    "mnist = mnistdata.read_data_sets(\"data/fashion\", one_hot=True, reshape=False)"
   ]
  },
  {
   "cell_type": "code",
   "execution_count": 3,
   "metadata": {},
   "outputs": [
    {
     "data": {
      "text/plain": [
       "(60000, 10)"
      ]
     },
     "execution_count": 3,
     "metadata": {},
     "output_type": "execute_result"
    }
   ],
   "source": [
    "mnist.train.labels.shape # one hot"
   ]
  },
  {
   "cell_type": "code",
   "execution_count": 4,
   "metadata": {},
   "outputs": [],
   "source": [
    "X = tf.placeholder(tf.float32, [None, 28, 28, 1])\n",
    "Y_ = tf.placeholder(tf.float32, [None, 10])\n",
    "lr = tf.placeholder(tf.float32) # variable learning rate\n",
    "pkeep = tf.placeholder(tf.float32) # probability of keeping a node during dropout\n",
    "step = tf.placeholder(tf.int32) # step for variable learning rate\n",
    "\n",
    "d_conv1 = 6  # first convolutional layer output depth\n",
    "d_conv2 = 12  # second convolutional layer output depth\n",
    "d_conv3 = 24  # third convolutional layer\n",
    "d_fc1 = 200  # fully connected layer \n",
    "d_fc2 = 10 \n",
    "\n",
    "W_conv1 = tf.Variable(tf.truncated_normal([5, 5, 1, d_conv1], stddev=0.1))\n",
    "B_conv1 = tf.Variable(tf.constant(0.1, tf.float32, [d_conv1]))\n",
    "W_conv2 = tf.Variable(tf.truncated_normal([5, 5, d_conv1, d_conv2], stddev=0.1))\n",
    "B_conv2 = tf.Variable(tf.constant(0.1, tf.float32, [d_conv2]))\n",
    "W_conv3 = tf.Variable(tf.truncated_normal([4, 4, d_conv2, d_conv3], stddev=0.1))\n",
    "B_conv3 = tf.Variable(tf.constant(0.1, tf.float32, [d_conv3]))\n",
    "\n",
    "W_fc1 = tf.Variable(tf.truncated_normal([7*7*d_conv3, d_fc1], stddev=0.1))\n",
    "B_fc1 = tf.Variable(tf.constant(0.1, tf.float32, [d_fc1]))\n",
    "W_fc2 = tf.Variable(tf.truncated_normal([d_fc1, d_fc2], stddev=0.1))\n",
    "B_fc2 = tf.Variable(tf.constant(0.1, tf.float32, [d_fc2]))"
   ]
  },
  {
   "cell_type": "code",
   "execution_count": 5,
   "metadata": {},
   "outputs": [],
   "source": [
    "# The model\n",
    "stride = 1  # output is 28x28\n",
    "Y_conv1 = tf.nn.relu(tf.nn.conv2d(X, W_conv1, strides=[1, stride, stride, 1], padding='SAME') + B_conv1)\n",
    "stride = 2  # output is 14x14\n",
    "Y_conv2 = tf.nn.relu(tf.nn.conv2d(Y_conv1, W_conv2, strides=[1, stride, stride, 1], padding='SAME') + B_conv2)\n",
    "stride = 2  # output is 7x7\n",
    "Y_conv3 = tf.nn.relu(tf.nn.conv2d(Y_conv2, W_conv3, strides=[1, stride, stride, 1], padding='SAME') + B_conv3)\n",
    "\n",
    "# reshape the output from the third convolution for the fully connected layer\n",
    "YY = tf.reshape(Y_conv3, shape=[-1, 7*7*d_conv3])\n",
    "\n",
    "Y_fc1 = tf.nn.relu(tf.matmul(YY, W_fc1) + B_fc1)\n",
    "YY_fc1 = tf.nn.dropout(Y_fc1, pkeep)\n",
    "Y_fc2 = tf.matmul(YY_fc1, W_fc2) + B_fc2\n",
    "Y = tf.nn.softmax(Y_fc2)"
   ]
  },
  {
   "cell_type": "code",
   "execution_count": 6,
   "metadata": {},
   "outputs": [
    {
     "name": "stdout",
     "output_type": "stream",
     "text": [
      "WARNING:tensorflow:From <ipython-input-6-6f75ae6c8f71>:1: softmax_cross_entropy_with_logits (from tensorflow.python.ops.nn_ops) is deprecated and will be removed in a future version.\n",
      "Instructions for updating:\n",
      "\n",
      "Future major versions of TensorFlow will allow gradients to flow\n",
      "into the labels input on backprop by default.\n",
      "\n",
      "See @{tf.nn.softmax_cross_entropy_with_logits_v2}.\n",
      "\n"
     ]
    }
   ],
   "source": [
    "cross_entropy = tf.nn.softmax_cross_entropy_with_logits(logits=Y_fc2, labels=Y_)\n",
    "cross_entropy = tf.reduce_mean(cross_entropy)*100\n",
    "\n",
    "correct_prediction = tf.equal(tf.argmax(Y, 1), tf.argmax(Y_, 1))\n",
    "accuracy = tf.reduce_mean(tf.cast(correct_prediction, tf.float32))\n",
    "\n",
    "# exponential_decay(learning_rate, global_step, decay_steps, decay_rate)\n",
    "# decayed_learning_rate = learning_rate * decay_rate^{global_step/decay_steps}\n",
    "lr = 1e-4 +  tf.train.exponential_decay(0.003, step, 2000, 1/math.e)\n",
    "train_step = tf.train.AdamOptimizer(lr).minimize(cross_entropy)\n",
    "\n",
    "init = tf.global_variables_initializer()\n",
    "sess = tf.Session()\n",
    "sess.run(init)"
   ]
  },
  {
   "cell_type": "code",
   "execution_count": 7,
   "metadata": {},
   "outputs": [
    {
     "name": "stdout",
     "output_type": "stream",
     "text": [
      "step     0, train_accuracy = 13 % test_accuracy = 13.47 %\n",
      "step  1000, train_accuracy = 83 % test_accuracy = 88.39 %\n",
      "step  2000, train_accuracy = 91 % test_accuracy = 90.48 %\n",
      "step  3000, train_accuracy = 98 % test_accuracy = 90.71 %\n",
      "step  4000, train_accuracy = 90 % test_accuracy = 91.17 %\n",
      "step  5000, train_accuracy = 95 % test_accuracy = 91.56 %\n",
      "step  6000, train_accuracy = 99 % test_accuracy = 91.48 %\n",
      "step  7000, train_accuracy = 90 % test_accuracy = 91.43 %\n",
      "step  8000, train_accuracy = 96 % test_accuracy = 91.35 %\n",
      "step  9000, train_accuracy = 99 % test_accuracy = 91.64 %\n"
     ]
    }
   ],
   "source": [
    "test_X, test_Y = mnist.test.next_batch(10000)\n",
    "for i in range(10000):\n",
    "    batch_X, batch_Y = mnist.train.next_batch(100)\n",
    "    if i % 1000 == 0:\n",
    "        train_accuracy = accuracy.eval(session=sess, feed_dict={X:batch_X, Y_:batch_Y, pkeep:1.0})\n",
    "        test_accuracy = accuracy.eval(session=sess, feed_dict={X:test_X, Y_:test_Y, pkeep:1.0})\n",
    "        print(\"step %5d, train_accuracy = %.4g %% test_accuracy = %.4g %%\" % (i, train_accuracy*100, test_accuracy*100))\n",
    "    train_step.run(session=sess, feed_dict={X:batch_X, Y_:batch_Y, pkeep:0.75, step:i})"
   ]
  },
  {
   "cell_type": "code",
   "execution_count": 7,
   "metadata": {},
   "outputs": [
    {
     "name": "stdout",
     "output_type": "stream",
     "text": [
      "step     0, train_accuracy = 13 % test_accuracy = 13.47 %\n",
      "step  1000, train_accuracy = 81 % test_accuracy = 87.78 %\n",
      "step  2000, train_accuracy = 95 % test_accuracy = 90.1 %\n",
      "step  3000, train_accuracy = 96 % test_accuracy = 90.71 %\n",
      "step  4000, train_accuracy = 86 % test_accuracy = 90.88 %\n",
      "step  5000, train_accuracy = 94 % test_accuracy = 91.24 %\n",
      "step  6000, train_accuracy = 96 % test_accuracy = 91.35 %\n",
      "step  7000, train_accuracy = 88 % test_accuracy = 91.41 %\n",
      "step  8000, train_accuracy = 94 % test_accuracy = 91.41 %\n",
      "step  9000, train_accuracy = 97 % test_accuracy = 91.52 %\n"
     ]
    }
   ],
   "source": [
    "# after restart kernel\n",
    "test_X, test_Y = mnist.test.next_batch(10000)\n",
    "for i in range(10000):\n",
    "    batch_X, batch_Y = mnist.train.next_batch(100)\n",
    "    if i % 1000 == 0:\n",
    "        train_accuracy = accuracy.eval(session=sess, feed_dict={X:batch_X, Y_:batch_Y, pkeep:1.0})\n",
    "        test_accuracy = accuracy.eval(session=sess, feed_dict={X:test_X, Y_:test_Y, pkeep:1.0})\n",
    "        print(\"step %5d, train_accuracy = %.4g %% test_accuracy = %.4g %%\" % (i, train_accuracy*100, test_accuracy*100))\n",
    "    train_step.run(session=sess, feed_dict={X:batch_X, Y_:batch_Y, pkeep:0.5, step:i})"
   ]
  }
 ],
 "metadata": {
  "kernelspec": {
   "display_name": "tensorflow",
   "language": "python",
   "name": "tensorflow"
  },
  "language_info": {
   "codemirror_mode": {
    "name": "ipython",
    "version": 3
   },
   "file_extension": ".py",
   "mimetype": "text/x-python",
   "name": "python",
   "nbconvert_exporter": "python",
   "pygments_lexer": "ipython3",
   "version": "3.6.8"
  }
 },
 "nbformat": 4,
 "nbformat_minor": 2
}

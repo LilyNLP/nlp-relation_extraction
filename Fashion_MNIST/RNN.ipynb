{
 "cells": [
  {
   "cell_type": "code",
   "execution_count": 1,
   "metadata": {},
   "outputs": [
    {
     "name": "stdout",
     "output_type": "stream",
     "text": [
      "1.10.0\n"
     ]
    }
   ],
   "source": [
    "import tensorflow as tf\n",
    "from tensorflow.contrib import rnn\n",
    "import numpy as np\n",
    "import time\n",
    "print(tf.__version__)"
   ]
  },
  {
   "cell_type": "code",
   "execution_count": 2,
   "metadata": {},
   "outputs": [
    {
     "name": "stdout",
     "output_type": "stream",
     "text": [
      "Successfully unzipped train-images-idx3-ubyte.gz\n",
      "Successfully unzipped train-labels-idx1-ubyte.gz\n",
      "Successfully unzipped t10k-images-idx3-ubyte.gz\n",
      "Successfully unzipped t10k-labels-idx1-ubyte.gz\n"
     ]
    }
   ],
   "source": [
    "import mnistdata\n",
    "mnist = mnistdata.read_data_sets(\"data/mnist\", one_hot=True, reshape=False)"
   ]
  },
  {
   "cell_type": "code",
   "execution_count": 3,
   "metadata": {},
   "outputs": [
    {
     "name": "stdout",
     "output_type": "stream",
     "text": [
      "(60000, 28, 28, 1)\n",
      "(10000, 10)\n"
     ]
    }
   ],
   "source": [
    "print(mnist.train.images.shape)\n",
    "print(mnist.test.labels.shape)"
   ]
  },
  {
   "cell_type": "code",
   "execution_count": 4,
   "metadata": {},
   "outputs": [],
   "source": [
    "learning_rate = 1e-4\n",
    "batch_size = 100\n",
    "display_step = 1000\n",
    "test_size = mnist.test.labels.shape[0]\n",
    "\n",
    "n_input = 28\n",
    "n_steps=  28\n",
    "n_hidden = 64\n",
    "n_classes = 10"
   ]
  },
  {
   "cell_type": "code",
   "execution_count": 5,
   "metadata": {},
   "outputs": [],
   "source": [
    "X = tf.placeholder(tf.float32, [None, n_steps, n_input])\n",
    "Y_ = tf.placeholder(tf.float32, [None, n_classes])\n",
    "\n",
    "W = tf.Variable(tf.truncated_normal([n_hidden, n_classes], stddev=0.1))\n",
    "b = tf.Variable(tf.truncated_normal([n_classes], stddev=0.1))"
   ]
  },
  {
   "cell_type": "code",
   "execution_count": 6,
   "metadata": {},
   "outputs": [],
   "source": [
    "def get_RNN(x, w, b, mode):\n",
    "    x = tf.transpose(x, [1, 0, 2])\n",
    "    x = tf.reshape(x, [-1, n_input])\n",
    "    x = tf.split(x, n_steps)\n",
    " \n",
    "    if mode == 1:\n",
    "        # single lstm layer\n",
    "        cell = tf.nn.rnn_cell.LSTMCell(n_hidden, forget_bias=1.0)\n",
    "        out, state = tf.contrib.rnn.static_rnn(cell, x, dtype=tf.float32)\n",
    "        pred = tf.nn.softmax(tf.matmul(out[-1], w) + b)\n",
    " \n",
    "    if mode == 2:\n",
    "        # multilayer rnn (2 layers)\n",
    "        n_layers = 2\n",
    "        multi_cell = tf.nn.rnn_cell.MultiRNNCell([tf.nn.rnn_cell.LSTMCell(n_hidden, forget_bias=1.0) for _ in range(n_layers)], state_is_tuple=True)\n",
    "        out, state = tf.nn.static_rnn(multi_cell, x, dtype=tf.float32)\n",
    "        pred = tf.nn.softmax(tf.matmul(out[-1], w) + b)\n",
    " \n",
    "    if mode == 3 :\n",
    "        # bidirectional rnn\n",
    "        w = tf.Variable(tf.truncated_normal([2*n_hidden, n_classes], stddev=0.1))\n",
    "        fw_cell = tf.nn.rnn_cell.LSTMCell(n_hidden, forget_bias=1.0)\n",
    "        bw_cell = tf.nn.rnn_cell.LSTMCell(n_hidden, forget_bias=1.0)\n",
    "        out, _, _ = tf.contrib.rnn.static_bidirectional_rnn(fw_cell, bw_cell, x, dtype=tf.float32)\n",
    "        pred = tf.nn.softmax(tf.matmul(out[-1], w) + b)\n",
    " \n",
    "    return pred"
   ]
  },
  {
   "cell_type": "code",
   "execution_count": 7,
   "metadata": {},
   "outputs": [],
   "source": [
    "Y1 = get_RNN(X, W, b, mode=1)\n",
    "\n",
    "cross_entropy = tf.reduce_mean(tf.nn.softmax_cross_entropy_with_logits_v2(logits=Y1, labels=Y_))\n",
    "\n",
    "correct_prediction = tf.equal(tf.argmax(Y1, 1), tf.argmax(Y_, 1))\n",
    "accuracy = tf.reduce_mean(tf.cast(correct_prediction, tf.float32))\n",
    "\n",
    "train_step = tf.train.AdamOptimizer(learning_rate).minimize(cross_entropy)\n",
    "\n",
    "sess = tf.Session()\n",
    "sess.run(tf.global_variables_initializer())"
   ]
  },
  {
   "cell_type": "code",
   "execution_count": 8,
   "metadata": {},
   "outputs": [
    {
     "name": "stdout",
     "output_type": "stream",
     "text": [
      "step     0, train_accuracy = 14 % test_accuracy = 9.85 %\n",
      "step  1000, train_accuracy = 62 % test_accuracy = 54.83 %\n",
      "step  2000, train_accuracy = 55 % test_accuracy = 70.46 %\n",
      "step  3000, train_accuracy = 86 % test_accuracy = 79.45 %\n",
      "step  4000, train_accuracy = 86 % test_accuracy = 81.89 %\n",
      "step  5000, train_accuracy = 70 % test_accuracy = 83.24 %\n",
      "step  6000, train_accuracy = 90 % test_accuracy = 83.83 %\n",
      "step  7000, train_accuracy = 89 % test_accuracy = 84.88 %\n",
      "step  8000, train_accuracy = 86 % test_accuracy = 90.16 %\n",
      "step  9000, train_accuracy = 95 % test_accuracy = 92.4 %\n",
      "training time:  118.1564773  s\n"
     ]
    }
   ],
   "source": [
    "# mnist\n",
    "start = time.clock()\n",
    "test_X = mnist.test.images\n",
    "test_X = test_X.reshape([test_size, n_steps, n_input])\n",
    "test_Y = mnist.test.labels\n",
    "for i in range(10000):\n",
    "    batch_X, batch_Y = mnist.train.next_batch(batch_size)\n",
    "    batch_X = batch_X.reshape([batch_size, n_steps, n_input])\n",
    "    if i % display_step == 0:\n",
    "        train_accuracy = accuracy.eval(session=sess, feed_dict={X:batch_X, Y_:batch_Y})\n",
    "        test_accuracy = accuracy.eval(session=sess, feed_dict={X:test_X, Y_:test_Y})\n",
    "        print(\"step %5d, train_accuracy = %.4g %% test_accuracy = %.4g %%\" % (i, train_accuracy*100, test_accuracy*100))\n",
    "    train_step.run(session=sess, feed_dict={X:batch_X, Y_:batch_Y})\n",
    "print(\"training time: \", time.clock()-start, \" s\")"
   ]
  },
  {
   "cell_type": "code",
   "execution_count": 9,
   "metadata": {},
   "outputs": [],
   "source": [
    "Y2 = get_RNN(X, W, b, mode=2)\n",
    "\n",
    "cross_entropy = tf.reduce_mean(tf.nn.softmax_cross_entropy_with_logits_v2(logits=Y2, labels=Y_))\n",
    "\n",
    "correct_prediction = tf.equal(tf.argmax(Y2, 1), tf.argmax(Y_, 1))\n",
    "accuracy = tf.reduce_mean(tf.cast(correct_prediction, tf.float32))\n",
    "\n",
    "train_step = tf.train.AdamOptimizer(learning_rate).minimize(cross_entropy)\n",
    "\n",
    "sess = tf.Session()\n",
    "sess.run(tf.global_variables_initializer())"
   ]
  },
  {
   "cell_type": "code",
   "execution_count": 10,
   "metadata": {},
   "outputs": [
    {
     "name": "stdout",
     "output_type": "stream",
     "text": [
      "step     0, train_accuracy = 7 % test_accuracy = 9.82 %\n",
      "step  1000, train_accuracy = 72 % test_accuracy = 78.57 %\n",
      "step  2000, train_accuracy = 89 % test_accuracy = 87.53 %\n",
      "step  3000, train_accuracy = 92 % test_accuracy = 91.12 %\n",
      "step  4000, train_accuracy = 86 % test_accuracy = 91.68 %\n",
      "step  5000, train_accuracy = 96 % test_accuracy = 93.08 %\n",
      "step  6000, train_accuracy = 96 % test_accuracy = 93.62 %\n",
      "step  7000, train_accuracy = 89 % test_accuracy = 94.31 %\n",
      "step  8000, train_accuracy = 97 % test_accuracy = 94.31 %\n",
      "step  9000, train_accuracy = 97 % test_accuracy = 95.1 %\n",
      "training time:  224.3581229  s\n"
     ]
    }
   ],
   "source": [
    "# mnist\n",
    "start = time.clock()\n",
    "test_X = mnist.test.images\n",
    "test_X = test_X.reshape([test_size, n_steps, n_input])\n",
    "test_Y = mnist.test.labels\n",
    "for i in range(10000):\n",
    "    batch_X, batch_Y = mnist.train.next_batch(batch_size)\n",
    "    batch_X = batch_X.reshape([batch_size, n_steps, n_input])\n",
    "    if i % display_step == 0:\n",
    "        train_accuracy = accuracy.eval(session=sess, feed_dict={X:batch_X, Y_:batch_Y})\n",
    "        test_accuracy = accuracy.eval(session=sess, feed_dict={X:test_X, Y_:test_Y})\n",
    "        print(\"step %5d, train_accuracy = %.4g %% test_accuracy = %.4g %%\" % (i, train_accuracy*100, test_accuracy*100))\n",
    "    train_step.run(session=sess, feed_dict={X:batch_X, Y_:batch_Y})\n",
    "print(\"training time: \", time.clock()-start, \" s\")"
   ]
  },
  {
   "cell_type": "code",
   "execution_count": 11,
   "metadata": {},
   "outputs": [],
   "source": [
    "Y3 = get_RNN(X, W, b, mode=3)\n",
    "\n",
    "cross_entropy = tf.reduce_mean(tf.nn.softmax_cross_entropy_with_logits_v2(logits=Y3, labels=Y_))\n",
    "\n",
    "correct_prediction = tf.equal(tf.argmax(Y3, 1), tf.argmax(Y_, 1))\n",
    "accuracy = tf.reduce_mean(tf.cast(correct_prediction, tf.float32))\n",
    "\n",
    "train_step = tf.train.AdamOptimizer(learning_rate).minimize(cross_entropy)\n",
    "\n",
    "sess = tf.Session()\n",
    "sess.run(tf.global_variables_initializer())"
   ]
  },
  {
   "cell_type": "code",
   "execution_count": 12,
   "metadata": {},
   "outputs": [
    {
     "name": "stdout",
     "output_type": "stream",
     "text": [
      "step     0, train_accuracy = 5 % test_accuracy = 9.11 %\n",
      "step  1000, train_accuracy = 71 % test_accuracy = 62.11 %\n",
      "step  2000, train_accuracy = 72 % test_accuracy = 69.07 %\n",
      "step  3000, train_accuracy = 64 % test_accuracy = 71.41 %\n",
      "step  4000, train_accuracy = 82 % test_accuracy = 80.35 %\n",
      "step  5000, train_accuracy = 88 % test_accuracy = 87.94 %\n",
      "step  6000, train_accuracy = 83 % test_accuracy = 89.56 %\n",
      "step  7000, train_accuracy = 93 % test_accuracy = 90.78 %\n",
      "step  8000, train_accuracy = 95 % test_accuracy = 91.61 %\n",
      "step  9000, train_accuracy = 88 % test_accuracy = 91.99 %\n",
      "training time:  124.3070677  s\n"
     ]
    }
   ],
   "source": [
    "# mnist\n",
    "start = time.clock()\n",
    "test_X = mnist.test.images\n",
    "test_X = test_X.reshape([test_size, n_steps, n_input])\n",
    "test_Y = mnist.test.labels\n",
    "for i in range(10000):\n",
    "    batch_X, batch_Y = mnist.train.next_batch(batch_size)\n",
    "    batch_X = batch_X.reshape([batch_size, n_steps, n_input])\n",
    "    if i % display_step == 0:\n",
    "        train_accuracy = accuracy.eval(session=sess, feed_dict={X:batch_X, Y_:batch_Y})\n",
    "        test_accuracy = accuracy.eval(session=sess, feed_dict={X:test_X, Y_:test_Y})\n",
    "        print(\"step %5d, train_accuracy = %.4g %% test_accuracy = %.4g %%\" % (i, train_accuracy*100, test_accuracy*100))\n",
    "    train_step.run(session=sess, feed_dict={X:batch_X, Y_:batch_Y})\n",
    "print(\"training time: \", time.clock()-start, \" s\")"
   ]
  },
  {
   "cell_type": "code",
   "execution_count": null,
   "metadata": {},
   "outputs": [],
   "source": []
  }
 ],
 "metadata": {
  "kernelspec": {
   "display_name": "tensorflow",
   "language": "python",
   "name": "tensorflow"
  },
  "language_info": {
   "codemirror_mode": {
    "name": "ipython",
    "version": 3
   },
   "file_extension": ".py",
   "mimetype": "text/x-python",
   "name": "python",
   "nbconvert_exporter": "python",
   "pygments_lexer": "ipython3",
   "version": "3.6.8"
  }
 },
 "nbformat": 4,
 "nbformat_minor": 2
}

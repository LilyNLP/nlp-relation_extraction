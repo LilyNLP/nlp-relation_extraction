{
 "cells": [
  {
   "cell_type": "code",
   "execution_count": 1,
   "metadata": {},
   "outputs": [
    {
     "name": "stdout",
     "output_type": "stream",
     "text": [
      "1.12.0\n"
     ]
    }
   ],
   "source": [
    "import tensorflow as tf\n",
    "import time\n",
    "from tensorflow.contrib import rnn\n",
    "print(tf.__version__)"
   ]
  },
  {
   "cell_type": "code",
   "execution_count": 2,
   "metadata": {},
   "outputs": [
    {
     "name": "stdout",
     "output_type": "stream",
     "text": [
      "Successfully unzipped train-images-idx3-ubyte.gz\n",
      "Successfully unzipped train-labels-idx1-ubyte.gz\n",
      "Successfully unzipped t10k-images-idx3-ubyte.gz\n",
      "Successfully unzipped t10k-labels-idx1-ubyte.gz\n"
     ]
    }
   ],
   "source": [
    "import mnistdata\n",
    "mnist = mnistdata.read_data_sets(\"data/mnist\", one_hot=True, reshape=False)"
   ]
  },
  {
   "cell_type": "code",
   "execution_count": 3,
   "metadata": {},
   "outputs": [
    {
     "name": "stdout",
     "output_type": "stream",
     "text": [
      "(60000, 28, 28, 1)\n",
      "(10000, 10)\n"
     ]
    }
   ],
   "source": [
    "print(mnist.train.images.shape)\n",
    "print(mnist.test.labels.shape)"
   ]
  },
  {
   "cell_type": "code",
   "execution_count": 4,
   "metadata": {},
   "outputs": [],
   "source": [
    "X = tf.placeholder(tf.float32, [None, 28, 28], \"X\")\n",
    "Y_ = tf.placeholder(tf.float32, [None, 10], \"Y_\")\n",
    "\n",
    "W = tf.Variable(tf.truncated_normal([128, 10]))\n",
    "b = tf.Variable(tf.zeros([10]))"
   ]
  },
  {
   "cell_type": "code",
   "execution_count": 5,
   "metadata": {},
   "outputs": [
    {
     "name": "stdout",
     "output_type": "stream",
     "text": [
      "WARNING:tensorflow:From <ipython-input-5-7ea2a4b79fb9>:1: BasicRNNCell.__init__ (from tensorflow.python.ops.rnn_cell_impl) is deprecated and will be removed in a future version.\n",
      "Instructions for updating:\n",
      "This class is equivalent as tf.keras.layers.SimpleRNNCell, and will be replaced by that in Tensorflow 2.0.\n"
     ]
    }
   ],
   "source": [
    "rnn_cell = tf.nn.rnn_cell.BasicRNNCell(128)\n",
    "outputs, states = tf.nn.dynamic_rnn(rnn_cell, X, dtype=tf.float32)\n",
    "\n",
    "outputs = tf.transpose(outputs, [1, 0, 2])\n",
    "outputs = outputs[-1]\n",
    "Y = tf.matmul(outputs, W) + b"
   ]
  },
  {
   "cell_type": "code",
   "execution_count": 6,
   "metadata": {},
   "outputs": [],
   "source": [
    "cross_entropy = tf.reduce_mean(tf.nn.softmax_cross_entropy_with_logits_v2(logits=Y, labels=Y_))\n",
    "# cross_entropy = tf.reduce_mean(cross_entropy)*100\n",
    "\n",
    "correct_prediction = tf.equal(tf.argmax(Y, 1), tf.argmax(Y_, 1))\n",
    "accuracy = tf.reduce_mean(tf.cast(correct_prediction, tf.float32))\n",
    "\n",
    "train_step = tf.train.AdamOptimizer(1e-4).minimize(cross_entropy)\n",
    "\n",
    "sess = tf.Session()\n",
    "sess.run(tf.global_variables_initializer())"
   ]
  },
  {
   "cell_type": "code",
   "execution_count": 9,
   "metadata": {},
   "outputs": [
    {
     "name": "stdout",
     "output_type": "stream",
     "text": [
      "step     0, train_accuracy = 81 % test_accuracy = 76.32 %\n",
      "step   500, train_accuracy = 83 % test_accuracy = 86.55 %\n",
      "step  1000, train_accuracy = 96 % test_accuracy = 90.46 %\n",
      "step  1500, train_accuracy = 93 % test_accuracy = 91.94 %\n"
     ]
    }
   ],
   "source": [
    "start = time.clock()\n",
    "test_X, test_Y = mnist.test.next_batch(10000)\n",
    "test_X = test_X.reshape([10000, 28, 28])\n",
    "for i in range(2000):\n",
    "    batch_X, batch_Y = mnist.train.next_batch(100)\n",
    "    batch_X = batch_X.reshape([100, 28, 28])\n",
    "    if i % 500 == 0:\n",
    "        train_accuracy = accuracy.eval(session=sess, feed_dict={X:batch_X, Y_:batch_Y})\n",
    "        test_accuracy = accuracy.eval(session=sess, feed_dict={X:test_X, Y_:test_Y})\n",
    "        print(\"step %5d, train_accuracy = %.4g %% test_accuracy = %.4g %%\" % (i, train_accuracy*100, test_accuracy*100))\n",
    "    train_step.run(session=sess, feed_dict={X:batch_X, Y_:batch_Y})\n",
    "print(\"training time: \", time.clock()-start, \" s\")"
   ]
  }
 ],
 "metadata": {
  "kernelspec": {
   "display_name": "tensorflow",
   "language": "python",
   "name": "tensorflow"
  },
  "language_info": {
   "codemirror_mode": {
    "name": "ipython",
    "version": 3
   },
   "file_extension": ".py",
   "mimetype": "text/x-python",
   "name": "python",
   "nbconvert_exporter": "python",
   "pygments_lexer": "ipython3",
   "version": "3.6.8"
  }
 },
 "nbformat": 4,
 "nbformat_minor": 2
}

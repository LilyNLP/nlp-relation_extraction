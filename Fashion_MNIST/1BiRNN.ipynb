{
 "cells": [
  {
   "cell_type": "markdown",
   "metadata": {},
   "source": [
    "<u>**2015 Relation Classification via Recurrent Neural Network**</u><br/>\n",
    "Dongxu Zhang, Dong Wang"
   ]
  },
  {
   "cell_type": "markdown",
   "metadata": {},
   "source": [
    "1 layer of BiRNN <br/>\n",
    "for i in length do h = max(ht_fw + ht_bw)"
   ]
  },
  {
   "cell_type": "code",
   "execution_count": 1,
   "metadata": {},
   "outputs": [
    {
     "name": "stdout",
     "output_type": "stream",
     "text": [
      "1.10.0\n"
     ]
    }
   ],
   "source": [
    "import tensorflow as tf\n",
    "from tensorflow.contrib import rnn\n",
    "import numpy as np\n",
    "import time\n",
    "print(tf.__version__)"
   ]
  },
  {
   "cell_type": "code",
   "execution_count": 2,
   "metadata": {},
   "outputs": [
    {
     "name": "stdout",
     "output_type": "stream",
     "text": [
      "Successfully unzipped train-images-idx3-ubyte.gz\n",
      "Successfully unzipped train-labels-idx1-ubyte.gz\n",
      "Successfully unzipped t10k-images-idx3-ubyte.gz\n",
      "Successfully unzipped t10k-labels-idx1-ubyte.gz\n"
     ]
    }
   ],
   "source": [
    "import mnistdata\n",
    "mnist = mnistdata.read_data_sets(\"data/mnist\", one_hot=True, reshape=False)"
   ]
  },
  {
   "cell_type": "code",
   "execution_count": 3,
   "metadata": {},
   "outputs": [
    {
     "name": "stdout",
     "output_type": "stream",
     "text": [
      "(60000, 28, 28, 1)\n",
      "(10000, 10)\n"
     ]
    }
   ],
   "source": [
    "print(mnist.train.images.shape)\n",
    "print(mnist.test.labels.shape)"
   ]
  },
  {
   "cell_type": "code",
   "execution_count": 4,
   "metadata": {},
   "outputs": [],
   "source": [
    "learning_rate = 1e-4\n",
    "batch_size = 100\n",
    "display_step = 1000\n",
    "test_size = mnist.test.labels.shape[0]\n",
    "\n",
    "n_input = 28\n",
    "n_steps=  28\n",
    "n_hidden = 128\n",
    "n_classes = 10"
   ]
  },
  {
   "cell_type": "code",
   "execution_count": 5,
   "metadata": {},
   "outputs": [],
   "source": [
    "X = tf.placeholder(tf.float32, [None, n_steps, n_input])\n",
    "Y_ = tf.placeholder(tf.float32, [None, n_classes])"
   ]
  },
  {
   "cell_type": "code",
   "execution_count": 6,
   "metadata": {},
   "outputs": [],
   "source": [
    "# BiRNN version 1\n",
    "def BiRNN(x):\n",
    "    x = tf.transpose(x, [1, 0, 2])\n",
    "    x = tf.reshape(x, [-1, n_input])\n",
    "    x = tf.split(x, n_steps)\n",
    "\n",
    "    W = tf.Variable(tf.truncated_normal([n_hidden, n_classes], stddev=0.1))\n",
    "    b = tf.Variable(tf.truncated_normal([n_classes], stddev=0.1))\n",
    "    \n",
    "    fw_cell = tf.nn.rnn_cell.LSTMCell(n_hidden, forget_bias=1.0)\n",
    "    bw_cell = tf.nn.rnn_cell.LSTMCell(n_hidden, forget_bias=1.0)\n",
    "    out, _, _ = tf.contrib.rnn.static_bidirectional_rnn(fw_cell, bw_cell, x, dtype=tf.float32)\n",
    "    \n",
    "    out = tf.stack(out)\n",
    "    h = out[:, :, 0:n_hidden] + out[:, :, n_hidden:2*n_hidden]\n",
    "    h_max = tf.reduce_max(h, 0)\n",
    "    \n",
    "    pred = tf.nn.softmax(tf.matmul(h_max, W) + b)\n",
    "\n",
    "    return pred"
   ]
  },
  {
   "cell_type": "code",
   "execution_count": 6,
   "metadata": {},
   "outputs": [],
   "source": [
    "# BiRNN version 2\n",
    "def BiRNN(x):\n",
    "    x = tf.transpose(x, [1, 0, 2])\n",
    "    x = tf.unstack(x, n_input)\n",
    "    \n",
    "    W_fw = tf.Variable(tf.truncated_normal([n_input, n_hidden], stddev=0.1))\n",
    "    U_fw = tf.Variable(tf.truncated_normal([n_hidden, n_hidden], stddev=0.1))\n",
    "    b_fw = tf.Variable(tf.truncated_normal([n_hidden], stddev=0.1))\n",
    "\n",
    "    W_bw = tf.Variable(tf.truncated_normal([n_input, n_hidden], stddev=0.1))\n",
    "    U_bw = tf.Variable(tf.truncated_normal([n_hidden, n_hidden], stddev=0.1))\n",
    "    b_bw = tf.Variable(tf.truncated_normal([n_hidden], stddev=0.1))\n",
    "\n",
    "    W_out = tf.Variable(tf.truncated_normal([n_hidden, n_classes], stddev=0.1))\n",
    "    b_out = tf.Variable(tf.truncated_normal([n_classes], stddev=0.1))\n",
    "\n",
    "    h0_fw = tf.Variable(tf.truncated_normal([1, n_hidden], stddev=0.1))\n",
    "    h0_bw = tf.Variable(tf.truncated_normal([1, n_hidden], stddev=0.1))\n",
    "\n",
    "    h_fw = []\n",
    "    h_bw = []\n",
    "    h = []\n",
    "    \n",
    "    for i in range(n_steps):\n",
    "        if i == 0:\n",
    "            h_fw.append(tf.tanh(tf.matmul(x[0], W_fw) + tf.matmul(h0_fw, U_fw) + b_fw))\n",
    "            h_bw.append(tf.tanh(tf.matmul(x[n_steps-1], W_bw) + tf.matmul(h0_bw, U_bw) + b_bw))\n",
    "            \n",
    "        else:\n",
    "            h_fw.append(tf.tanh(tf.matmul(x[i], W_fw) + tf.matmul(h_fw[i-1], U_fw) + b_fw))\n",
    "            h_bw.append(tf.tanh(tf.matmul(x[n_steps-1-i], W_bw) + tf.matmul(h_fw[i-1], U_bw) + b_bw))\n",
    "    \n",
    "    for i in range(n_steps):\n",
    "        h.append(h_fw[i] + h_bw[n_steps-1-i])\n",
    "    \n",
    "    h = tf.stack(h)\n",
    "    h_max = tf.reduce_max(h, 0)\n",
    "    \n",
    "    pred = tf.nn.softmax(tf.matmul(h_max, W_out) + b_out)\n",
    "    \n",
    "    return pred"
   ]
  },
  {
   "cell_type": "code",
   "execution_count": 7,
   "metadata": {},
   "outputs": [],
   "source": [
    "Y = BiRNN(X)"
   ]
  },
  {
   "cell_type": "code",
   "execution_count": 8,
   "metadata": {},
   "outputs": [],
   "source": [
    "cross_entropy = tf.reduce_mean(tf.nn.softmax_cross_entropy_with_logits_v2(logits=Y, labels=Y_))\n",
    "\n",
    "correct_prediction = tf.equal(tf.argmax(Y, 1), tf.argmax(Y_, 1))\n",
    "accuracy = tf.reduce_mean(tf.cast(correct_prediction, tf.float32))\n",
    "\n",
    "train_step = tf.train.AdamOptimizer(learning_rate).minimize(cross_entropy)\n",
    "\n",
    "sess = tf.Session()\n",
    "sess.run(tf.global_variables_initializer())"
   ]
  },
  {
   "cell_type": "code",
   "execution_count": 9,
   "metadata": {},
   "outputs": [
    {
     "name": "stdout",
     "output_type": "stream",
     "text": [
      "step     0, train_accuracy = 5 % test_accuracy = 8.14 %\n",
      "step  1000, train_accuracy = 91 % test_accuracy = 87.16 %\n",
      "step  2000, train_accuracy = 89 % test_accuracy = 93.12 %\n",
      "step  3000, train_accuracy = 95 % test_accuracy = 95.06 %\n",
      "step  4000, train_accuracy = 98 % test_accuracy = 95.74 %\n",
      "step  5000, train_accuracy = 91 % test_accuracy = 96.03 %\n",
      "step  6000, train_accuracy = 95 % test_accuracy = 96.61 %\n",
      "step  7000, train_accuracy = 99 % test_accuracy = 96.5 %\n",
      "step  8000, train_accuracy = 91 % test_accuracy = 96.86 %\n",
      "step  9000, train_accuracy = 97 % test_accuracy = 97.11 %\n",
      "------------------------------------\n",
      "training time:  289.10449459999995  s\n",
      "final accuracy = 97.41 %\n"
     ]
    }
   ],
   "source": [
    "# data/mnist && BiRNN version 1\n",
    "start = time.clock()\n",
    "test_X = mnist.test.images\n",
    "test_X = test_X.reshape([test_size, n_steps, n_input])\n",
    "test_Y = mnist.test.labels\n",
    "for i in range(10000):\n",
    "    batch_X, batch_Y = mnist.train.next_batch(batch_size)\n",
    "    batch_X = batch_X.reshape([batch_size, n_steps, n_input])\n",
    "    if i % display_step == 0:\n",
    "        train_accuracy = accuracy.eval(session=sess, feed_dict={X:batch_X, Y_:batch_Y})\n",
    "        test_accuracy = accuracy.eval(session=sess, feed_dict={X:test_X, Y_:test_Y})\n",
    "        print(\"step %5d, train_accuracy = %.4g %% test_accuracy = %.4g %%\" % (i, train_accuracy*100, test_accuracy*100))\n",
    "    train_step.run(session=sess, feed_dict={X:batch_X, Y_:batch_Y})\n",
    "print(\"------------------------------------\")\n",
    "print(\"training time: \", time.clock()-start, \" s\")\n",
    "test_accuracy = accuracy.eval(session=sess, feed_dict={X:test_X, Y_:test_Y})\n",
    "print(\"final accuracy = %.4g %%\" % (test_accuracy*100))"
   ]
  },
  {
   "cell_type": "code",
   "execution_count": 9,
   "metadata": {},
   "outputs": [
    {
     "name": "stdout",
     "output_type": "stream",
     "text": [
      "step     0, train_accuracy = 3 % test_accuracy = 8.06 %\n",
      "step  1000, train_accuracy = 79 % test_accuracy = 79.68 %\n",
      "step  2000, train_accuracy = 78 % test_accuracy = 83.16 %\n",
      "step  3000, train_accuracy = 95 % test_accuracy = 91.42 %\n",
      "step  4000, train_accuracy = 94 % test_accuracy = 93.43 %\n",
      "step  5000, train_accuracy = 92 % test_accuracy = 94.02 %\n",
      "step  6000, train_accuracy = 97 % test_accuracy = 94.67 %\n",
      "step  7000, train_accuracy = 98 % test_accuracy = 95.39 %\n",
      "step  8000, train_accuracy = 94 % test_accuracy = 95.68 %\n",
      "step  9000, train_accuracy = 98 % test_accuracy = 95.97 %\n",
      "------------------------------------\n",
      "training time:  111.9186839  s\n",
      "final accuracy = 96.3 %\n"
     ]
    }
   ],
   "source": [
    "# data/mnist && BiRNN version 2\n",
    "start = time.clock()\n",
    "test_X = mnist.test.images\n",
    "test_X = test_X.reshape([test_size, n_steps, n_input])\n",
    "test_Y = mnist.test.labels\n",
    "for i in range(10000):\n",
    "    batch_X, batch_Y = mnist.train.next_batch(batch_size)\n",
    "    batch_X = batch_X.reshape([batch_size, n_steps, n_input])\n",
    "    if i % display_step == 0:\n",
    "        train_accuracy = accuracy.eval(session=sess, feed_dict={X:batch_X, Y_:batch_Y})\n",
    "        test_accuracy = accuracy.eval(session=sess, feed_dict={X:test_X, Y_:test_Y})\n",
    "        print(\"step %5d, train_accuracy = %.4g %% test_accuracy = %.4g %%\" % (i, train_accuracy*100, test_accuracy*100))\n",
    "    train_step.run(session=sess, feed_dict={X:batch_X, Y_:batch_Y})\n",
    "print(\"------------------------------------\")\n",
    "print(\"training time: \", time.clock()-start, \" s\")\n",
    "test_accuracy = accuracy.eval(session=sess, feed_dict={X:test_X, Y_:test_Y})\n",
    "print(\"final accuracy = %.4g %%\" % (test_accuracy*100))"
   ]
  },
  {
   "cell_type": "code",
   "execution_count": 9,
   "metadata": {},
   "outputs": [
    {
     "name": "stdout",
     "output_type": "stream",
     "text": [
      "step     0, train_accuracy = 8 % test_accuracy = 10 %\n",
      "step  1000, train_accuracy = 76 % test_accuracy = 71.97 %\n",
      "step  2000, train_accuracy = 77 % test_accuracy = 73.93 %\n",
      "step  3000, train_accuracy = 85 % test_accuracy = 80.02 %\n",
      "step  4000, train_accuracy = 80 % test_accuracy = 81.22 %\n",
      "step  5000, train_accuracy = 82 % test_accuracy = 81.64 %\n",
      "step  6000, train_accuracy = 90 % test_accuracy = 82.28 %\n",
      "step  7000, train_accuracy = 82 % test_accuracy = 82.92 %\n",
      "step  8000, train_accuracy = 85 % test_accuracy = 83.3 %\n",
      "step  9000, train_accuracy = 88 % test_accuracy = 83.61 %\n",
      "training time:  114.0431472  s\n"
     ]
    }
   ],
   "source": [
    "# data/fashion && BiRNN version 2\n",
    "start = time.clock()\n",
    "test_X = mnist.test.images\n",
    "test_X = test_X.reshape([test_size, n_steps, n_input])\n",
    "test_Y = mnist.test.labels\n",
    "for i in range(10000):\n",
    "    batch_X, batch_Y = mnist.train.next_batch(batch_size)\n",
    "    batch_X = batch_X.reshape([batch_size, n_steps, n_input])\n",
    "    if i % display_step == 0:\n",
    "        train_accuracy = accuracy.eval(session=sess, feed_dict={X:batch_X, Y_:batch_Y})\n",
    "        test_accuracy = accuracy.eval(session=sess, feed_dict={X:test_X, Y_:test_Y})\n",
    "        print(\"step %5d, train_accuracy = %.4g %% test_accuracy = %.4g %%\" % (i, train_accuracy*100, test_accuracy*100))\n",
    "    train_step.run(session=sess, feed_dict={X:batch_X, Y_:batch_Y})\n",
    "print(\"training time: \", time.clock()-start, \" s\")"
   ]
  },
  {
   "cell_type": "code",
   "execution_count": null,
   "metadata": {},
   "outputs": [],
   "source": []
  }
 ],
 "metadata": {
  "kernelspec": {
   "display_name": "tensorflow",
   "language": "python",
   "name": "tensorflow"
  },
  "language_info": {
   "codemirror_mode": {
    "name": "ipython",
    "version": 3
   },
   "file_extension": ".py",
   "mimetype": "text/x-python",
   "name": "python",
   "nbconvert_exporter": "python",
   "pygments_lexer": "ipython3",
   "version": "3.6.8"
  }
 },
 "nbformat": 4,
 "nbformat_minor": 2
}
